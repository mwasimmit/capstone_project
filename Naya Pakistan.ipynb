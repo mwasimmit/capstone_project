{
    "cells": [
        {
            "cell_type": "markdown",
            "metadata": {},
            "source": "# Finding The Best House To Purchase"
        },
        {
            "cell_type": "markdown",
            "metadata": {},
            "source": "## Background"
        },
        {
            "cell_type": "markdown",
            "metadata": {},
            "source": "Pakistan is one of the poorest and populous countries in the world with majority of the people living in rented homes. Due to low wages the rents put huge burden on living standard of lower middle class and middle class people. To relieve this problem, The Prime Minister of Pakistan announced a subsidized housing scheme named \"naya pakistan housing scheme\" http://nphp.com.pk.\nThe local banks of Pakistan were advised to provide low interest loan for people of Pakistan with low income and having no home. \nThree types of loans are provided by banks. Applicant will qualify for loan based on his/her salary income or other income. The financing tenure is from 5 Years to 20 Years. These three types are\n\n1. 3.5 Million PKR (Pakistani Rupee)\n2. 6.0 Million\n3. 10 Million\n"
        },
        {
            "cell_type": "markdown",
            "metadata": {},
            "source": "## Problem"
        },
        {
            "cell_type": "markdown",
            "metadata": {},
            "source": "Due to the booming construction Industry and increased houses prices in Pakistan it is very difficult for common man to find suitable home in the price range of loan.  The purpose of this project is to help buyer to find for them suitable home in the city of Islamabad within the price range of loan and prioritize the list of homes on the basis of different venues around them. The application will prioritize the result based on the venues that are essential for lives of middle class or lower middle classes of Pakistan. These venues will be Grocery Stores, Vegetable/Meats shops, Super Stores, Pharmacies, Hospitals, Schools etc."
        },
        {
            "cell_type": "markdown",
            "metadata": {},
            "source": "## The City of Islamabad"
        },
        {
            "cell_type": "markdown",
            "metadata": {},
            "source": "The city of Islamabad is divided into different sectors. Each square shaped sector is named by combining Latin letters and numerals together Starting from A-O (For Example F-8, G-9 etc). Each sector has different price ranges."
        },
        {
            "cell_type": "markdown",
            "metadata": {},
            "source": "## Proposed Solution"
        },
        {
            "cell_type": "markdown",
            "metadata": {},
            "source": "This application will search homes in all sectors of Islamabad\n based on all three prices ranges. For example, in first section it Will find home in all sectors of\n Islamabad for 3.5 Million range the list will be displayed from low price to high price, also in other table the list will be prioritized based on the number of above mentioned venues in the sector. Finlay the application will cluster sectors in this price range and will explore and examine each cluster.\n"
        },
        {
            "cell_type": "markdown",
            "metadata": {},
            "source": "## DATA Sources"
        },
        {
            "cell_type": "markdown",
            "metadata": {},
            "source": "For the proposed solution two types of data is required. 1. Data about Prices of the houses. 2. Data about the geographic and Venues around the house. "
        },
        {
            "cell_type": "markdown",
            "metadata": {},
            "source": "## 1. Data about Prices"
        },
        {
            "cell_type": "markdown",
            "metadata": {},
            "source": "In Pakistan most popular websites used for property search are \"www.olx.com.pk\", \"www.zameen.com\" and \"www.graana.com\". This application will use python web scrapping\nto open one of the websites mentioned above and search for the price tag with location set to the city of Islamabad. Next the application will fetch prices, location and area information of the houses in Square foot. Location will be the sectors in which the house is situated. \n"
        },
        {
            "cell_type": "markdown",
            "metadata": {},
            "source": "## 2. Geographical Data"
        },
        {
            "cell_type": "markdown",
            "metadata": {},
            "source": "For latitudes and longitudes geopy or geocoder libraries will be used. Based on latitude and longitude information Forsquare will be used to extract venue information of each sector."
        },
        {
            "cell_type": "markdown",
            "metadata": {},
            "source": "# Result"
        },
        {
            "cell_type": "markdown",
            "metadata": {},
            "source": "The final result will be display in tabular form in following format.\n\nFor Example\n\nResult for 3.5 Million slab will look like this."
        },
        {
            "cell_type": "markdown",
            "metadata": {},
            "source": "| S.No | Price of House | Location | Area (Sq Ft) | Nearby Schools | Nearby Hospitals | Nearby Restuarants | Nearby Groceries|\n| --- | --- | --- | --- | --- | --- |--- | --- |\n| 1 | 3.5 Million | G-7 | 1150 | 2 | 4 | 3 | 2 |"
        },
        {
            "cell_type": "code",
            "execution_count": null,
            "metadata": {},
            "outputs": [],
            "source": ""
        },
        {
            "cell_type": "code",
            "execution_count": null,
            "metadata": {},
            "outputs": [],
            "source": ""
        },
        {
            "cell_type": "code",
            "execution_count": null,
            "metadata": {},
            "outputs": [],
            "source": ""
        }
    ],
    "metadata": {
        "kernelspec": {
            "display_name": "Python 3.7",
            "language": "python",
            "name": "python3"
        },
        "language_info": {
            "codemirror_mode": {
                "name": "ipython",
                "version": 3
            },
            "file_extension": ".py",
            "mimetype": "text/x-python",
            "name": "python",
            "nbconvert_exporter": "python",
            "pygments_lexer": "ipython3",
            "version": "3.7.10"
        }
    },
    "nbformat": 4,
    "nbformat_minor": 4
}